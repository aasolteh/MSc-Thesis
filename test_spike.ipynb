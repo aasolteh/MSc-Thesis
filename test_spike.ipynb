{
 "cells": [
  {
   "cell_type": "code",
   "execution_count": 2,
   "metadata": {},
   "outputs": [],
   "source": [
    "import os\n",
    "from allensdk.brain_observatory.ecephys.ecephys_project_cache import EcephysProjectCache\n",
    "import numpy as np\n",
    "import pandas as pd"
   ]
  },
  {
   "cell_type": "code",
   "execution_count": 3,
   "metadata": {},
   "outputs": [],
   "source": [
    "data_directory = 'raw_data/'\n",
    "manifest_path = os.path.join(data_directory, \"manifest.json\")\n",
    "cache = EcephysProjectCache.from_warehouse(manifest=manifest_path)\n",
    "\n",
    "sessions = cache.get_session_table()"
   ]
  },
  {
   "cell_type": "code",
   "execution_count": 4,
   "metadata": {},
   "outputs": [],
   "source": [
    "pathToSave = '/home/amirali/Desktop/Thesis/Codes/unit_data/Data/'"
   ]
  },
  {
   "cell_type": "code",
   "execution_count": 31,
   "metadata": {},
   "outputs": [
    {
     "name": "stdout",
     "output_type": "stream",
     "text": [
      "0\n"
     ]
    },
    {
     "ename": "KeyboardInterrupt",
     "evalue": "",
     "output_type": "error",
     "traceback": [
      "\u001b[0;31m---------------------------------------------------------------------------\u001b[0m",
      "\u001b[0;31mKeyboardInterrupt\u001b[0m                         Traceback (most recent call last)",
      "\u001b[0;32m/tmp/ipykernel_211373/385118074.py\u001b[0m in \u001b[0;36m<module>\u001b[0;34m\u001b[0m\n\u001b[1;32m     46\u001b[0m                     \u001b[0;32mfor\u001b[0m \u001b[0mstartTime\u001b[0m \u001b[0;32min\u001b[0m \u001b[0mrange\u001b[0m\u001b[0;34m(\u001b[0m\u001b[0mlen\u001b[0m\u001b[0;34m(\u001b[0m\u001b[0mimageStartTime\u001b[0m\u001b[0;34m)\u001b[0m\u001b[0;34m)\u001b[0m\u001b[0;34m:\u001b[0m\u001b[0;34m\u001b[0m\u001b[0;34m\u001b[0m\u001b[0m\n\u001b[1;32m     47\u001b[0m                         imageAvgSpikeValues[startTime, id, timeIdx] = np.where((currSession.spike_times[probeIDs[id]] <= imageStartTime[startTime] \n\u001b[0;32m---> 48\u001b[0;31m                                                                     \u001b[0;34m+\u001b[0m \u001b[0mtEnd\u001b[0m\u001b[0;34m)\u001b[0m \u001b[0;34m&\u001b[0m \u001b[0;34m(\u001b[0m\u001b[0mcurrSession\u001b[0m\u001b[0;34m.\u001b[0m\u001b[0mspike_times\u001b[0m\u001b[0;34m[\u001b[0m\u001b[0mprobeIDs\u001b[0m\u001b[0;34m[\u001b[0m\u001b[0mid\u001b[0m\u001b[0;34m]\u001b[0m\u001b[0;34m]\u001b[0m \u001b[0;34m>=\u001b[0m \u001b[0mimageStartTime\u001b[0m\u001b[0;34m[\u001b[0m\u001b[0mstartTime\u001b[0m\u001b[0;34m]\u001b[0m\u001b[0;34m\u001b[0m\u001b[0;34m\u001b[0m\u001b[0m\n\u001b[0m\u001b[1;32m     49\u001b[0m                                                                     + tInit))[0].shape[0]\n\u001b[1;32m     50\u001b[0m             \u001b[0mimageAvgSpikeValues\u001b[0m \u001b[0;34m=\u001b[0m \u001b[0mnp\u001b[0m\u001b[0;34m.\u001b[0m\u001b[0mmean\u001b[0m\u001b[0;34m(\u001b[0m\u001b[0mimageAvgSpikeValues\u001b[0m\u001b[0;34m,\u001b[0m \u001b[0maxis\u001b[0m\u001b[0;34m=\u001b[0m\u001b[0;36m0\u001b[0m\u001b[0;34m)\u001b[0m\u001b[0;34m\u001b[0m\u001b[0;34m\u001b[0m\u001b[0m\n",
      "\u001b[0;31mKeyboardInterrupt\u001b[0m: "
     ]
    }
   ],
   "source": [
    "for sessIdx in range(len(sessions.index.values)):\n",
    "    print(\"Session: \", sessIdx)\n",
    "    currSessNum = sessions.index.values[sessIdx]\n",
    "    currSession = cache.get_session_data(currSessNum)\n",
    "\n",
    "    if not 'natural_scenes' in currSession.stimulus_names:\n",
    "        continue\n",
    "    \n",
    "    stimTable    = currSession.get_stimulus_table()\n",
    "    imageTable   = stimTable[stimTable.stimulus_name == 'natural_scenes']\n",
    "    imageIndices = imageTable.frame.unique()\n",
    "    nonImageIdx  = np.where(imageIndices == -1.0)\n",
    "    imageIndices = np.sort(np.delete(imageIndices, nonImageIdx))\n",
    "    \n",
    "    startWindow  = np.arange(-0.2, 0.78, 0.01)\n",
    "    endWindow    = np.arange(-0.18, 0.8, 0.01)\n",
    "    \n",
    "    probes            = ['VISp', 'VISl', 'VISrl', 'VISal', 'VISpm', 'VISam', 'LGd', 'LP']\n",
    "    currSessionProbes = list(set(list(currSession.units.ecephys_structure_acronym.unique())) & set(probes))\n",
    "    \n",
    "    for imageIdx in imageIndices:\n",
    "        print(\"Image Stim: \", imageIdx)\n",
    "        imagePath = os.path.join(pathToSave, str(int(imageIdx)))\n",
    "        sessionPath = os.path.join(imagePath, str(sessions.index.values[sessIdx]))\n",
    "        \n",
    "        if not os.path.exists(imagePath):\n",
    "            os.makedirs(imagePath)\n",
    "        \n",
    "        if not os.path.exists(sessionPath):\n",
    "            os.makedirs(sessionPath)\n",
    "            \n",
    "        thisImageIndices    = np.where(imageTable.frame == imageIdx)[0]\n",
    "        numImageIterations  = thisImageIndices.shape[0]\n",
    "        imageStartTime      = imageTable.iloc[thisImageIndices].start_time.values\n",
    "        for probe in currSessionProbes:\n",
    "            print(\"Probe: \", probe)\n",
    "            probePath = os.path.join(sessionPath, probe)\n",
    "            if not os.path.exists(probePath):\n",
    "                os.makedirs(probePath)\n",
    "                \n",
    "            probeRows = np.where(currSession.units.ecephys_structure_acronym == probe)\n",
    "            probeIDs  = currSession.units.ecephys_structure_acronym.iloc[probeRows].index\n",
    "            imageAvgSpikeValues = np.zeros((numImageIterations, probeIDs.shape[0], startWindow.shape[0]))\n",
    "            for id in range(len(probeIDs)):\n",
    "                for timeIdx in range(len(startWindow)):\n",
    "                    tInit = startWindow[timeIdx]\n",
    "                    tEnd  = endWindow[timeIdx]\n",
    "                    for startTime in range(len(imageStartTime)):\n",
    "                        imageAvgSpikeValues[startTime, id, timeIdx] = np.where((currSession.spike_times[probeIDs[id]] <= imageStartTime[startTime] \n",
    "                                                                    + tEnd) & (currSession.spike_times[probeIDs[id]] >= imageStartTime[startTime] \n",
    "                                                                    + tInit))[0].shape[0]\n",
    "            imageAvgSpikeValues = np.mean(imageAvgSpikeValues, axis=0)\n",
    "            with open(probePath + '/spikes.npy', 'wb') as f:\n",
    "                np.save(f, imageAvgSpikeValues)"
   ]
  },
  {
   "cell_type": "code",
   "execution_count": 30,
   "metadata": {},
   "outputs": [
    {
     "data": {
      "text/plain": [
       "715093703"
      ]
     },
     "execution_count": 30,
     "metadata": {},
     "output_type": "execute_result"
    }
   ],
   "source": [
    "sessions.index.values[sessIdx]"
   ]
  },
  {
   "cell_type": "code",
   "execution_count": 29,
   "metadata": {},
   "outputs": [],
   "source": [
    "with open(probePath + '/spikes.npy', 'wb') as f:\n",
    "    np.save(f, imageAvgSpikeValues)"
   ]
  },
  {
   "cell_type": "code",
   "execution_count": 22,
   "metadata": {},
   "outputs": [],
   "source": [
    "imageAvgSpikeValues = np.mean(imageAvgSpikeValues, axis=0)"
   ]
  },
  {
   "cell_type": "code",
   "execution_count": 26,
   "metadata": {},
   "outputs": [
    {
     "data": {
      "text/plain": [
       "(76, 98)"
      ]
     },
     "execution_count": 26,
     "metadata": {},
     "output_type": "execute_result"
    }
   ],
   "source": [
    "imageAvgSpikeValues.shape"
   ]
  },
  {
   "cell_type": "code",
   "execution_count": 20,
   "metadata": {},
   "outputs": [
    {
     "name": "stdout",
     "output_type": "stream",
     "text": [
      "[0. 0. 0. 1. 0. 0. 0. 0. 1. 0. 0. 0. 0. 0. 0. 0. 0. 0. 0. 0. 0. 0. 0. 0.\n",
      " 0. 0. 1. 0. 0. 0. 1. 0. 0. 1. 0. 0. 1. 0. 0. 0. 0. 0. 0. 0. 2. 2. 0. 0.\n",
      " 0. 0.]\n"
     ]
    }
   ],
   "source": [
    "print(imageAvgSpikeValues[:, 0, 2])"
   ]
  },
  {
   "cell_type": "code",
   "execution_count": 31,
   "metadata": {},
   "outputs": [
    {
     "data": {
      "text/plain": [
       "array([5914.68358658, 5960.97227522, 5979.4877275 , 5983.4910775 ,\n",
       "       6037.5362275 , 6039.78810136, 6049.79647636, 6103.5914075 ,\n",
       "       6139.6214975 , 6142.62400294, 6197.41976636, 6220.93939908,\n",
       "       6257.46993136, 6261.97370136, 6313.51676636, 6353.56686916,\n",
       "       6679.58919022, 6692.85027658, 6749.64772022, 6779.92300386,\n",
       "       6790.1815775 , 6833.21748294, 6836.72045522, 6852.2334275 ,\n",
       "       6853.98488636, 6873.50119408, 6879.75640522, 6939.30617294,\n",
       "       6943.80991022, 6985.59482158, 7037.88849522, 7065.66166658,\n",
       "       7121.70852658, 7127.21311158, 8027.96551158, 8030.71783022,\n",
       "       8030.96803386, 8071.2516875 , 8120.79305022, 8156.32272294,\n",
       "       8176.08926658, 8181.3436275 , 8261.91092522, 8317.95775522,\n",
       "       8329.71757136, 8389.76772886, 8403.02878522, 8412.53679294,\n",
       "       8475.83963386, 8492.10319522])"
      ]
     },
     "execution_count": 31,
     "metadata": {},
     "output_type": "execute_result"
    }
   ],
   "source": [
    "imageStartTime"
   ]
  },
  {
   "cell_type": "code",
   "execution_count": 27,
   "metadata": {},
   "outputs": [
    {
     "data": {
      "text/plain": [
       "(50,)"
      ]
     },
     "execution_count": 27,
     "metadata": {},
     "output_type": "execute_result"
    }
   ],
   "source": [
    "imageStartTime.shape"
   ]
  },
  {
   "cell_type": "code",
   "execution_count": 21,
   "metadata": {},
   "outputs": [
    {
     "data": {
      "text/plain": [
       "array([  15.10657208,   15.23963915,   15.41593969, ..., 9638.34191791,\n",
       "       9638.54071852, 9638.79205263])"
      ]
     },
     "execution_count": 21,
     "metadata": {},
     "output_type": "execute_result"
    }
   ],
   "source": [
    "spikes"
   ]
  },
  {
   "cell_type": "code",
   "execution_count": 29,
   "metadata": {},
   "outputs": [
    {
     "name": "stdout",
     "output_type": "stream",
     "text": [
      "                         color contrast frame orientation phase  size  \\\n",
      "stimulus_presentation_id                                                \n",
      "51442                     null     null   0.0        null  null  null   \n",
      "51627                     null     null   0.0        null  null  null   \n",
      "51701                     null     null   0.0        null  null  null   \n",
      "51717                     null     null   0.0        null  null  null   \n",
      "51933                     null     null   0.0        null  null  null   \n",
      "51942                     null     null   0.0        null  null  null   \n",
      "51982                     null     null   0.0        null  null  null   \n",
      "52197                     null     null   0.0        null  null  null   \n",
      "52341                     null     null   0.0        null  null  null   \n",
      "52353                     null     null   0.0        null  null  null   \n",
      "52572                     null     null   0.0        null  null  null   \n",
      "52666                     null     null   0.0        null  null  null   \n",
      "52812                     null     null   0.0        null  null  null   \n",
      "52830                     null     null   0.0        null  null  null   \n",
      "53036                     null     null   0.0        null  null  null   \n",
      "53196                     null     null   0.0        null  null  null   \n",
      "53300                     null     null   0.0        null  null  null   \n",
      "53353                     null     null   0.0        null  null  null   \n",
      "53580                     null     null   0.0        null  null  null   \n",
      "53701                     null     null   0.0        null  null  null   \n",
      "53742                     null     null   0.0        null  null  null   \n",
      "53914                     null     null   0.0        null  null  null   \n",
      "53928                     null     null   0.0        null  null  null   \n",
      "53990                     null     null   0.0        null  null  null   \n",
      "53997                     null     null   0.0        null  null  null   \n",
      "54075                     null     null   0.0        null  null  null   \n",
      "54100                     null     null   0.0        null  null  null   \n",
      "54338                     null     null   0.0        null  null  null   \n",
      "54356                     null     null   0.0        null  null  null   \n",
      "54523                     null     null   0.0        null  null  null   \n",
      "54732                     null     null   0.0        null  null  null   \n",
      "54843                     null     null   0.0        null  null  null   \n",
      "55067                     null     null   0.0        null  null  null   \n",
      "55089                     null     null   0.0        null  null  null   \n",
      "66132                     null     null   0.0        null  null  null   \n",
      "66143                     null     null   0.0        null  null  null   \n",
      "66144                     null     null   0.0        null  null  null   \n",
      "66305                     null     null   0.0        null  null  null   \n",
      "66503                     null     null   0.0        null  null  null   \n",
      "66645                     null     null   0.0        null  null  null   \n",
      "66724                     null     null   0.0        null  null  null   \n",
      "66745                     null     null   0.0        null  null  null   \n",
      "67067                     null     null   0.0        null  null  null   \n",
      "67291                     null     null   0.0        null  null  null   \n",
      "67338                     null     null   0.0        null  null  null   \n",
      "67578                     null     null   0.0        null  null  null   \n",
      "67631                     null     null   0.0        null  null  null   \n",
      "67669                     null     null   0.0        null  null  null   \n",
      "67922                     null     null   0.0        null  null  null   \n",
      "67987                     null     null   0.0        null  null  null   \n",
      "\n",
      "                         spatial_frequency   start_time stimulus_block  \\\n",
      "stimulus_presentation_id                                                 \n",
      "51442                                 null  5914.683587            9.0   \n",
      "51627                                 null  5960.972275            9.0   \n",
      "51701                                 null  5979.487727            9.0   \n",
      "51717                                 null  5983.491077            9.0   \n",
      "51933                                 null  6037.536227            9.0   \n",
      "51942                                 null  6039.788101            9.0   \n",
      "51982                                 null  6049.796476            9.0   \n",
      "52197                                 null  6103.591407            9.0   \n",
      "52341                                 null  6139.621497            9.0   \n",
      "52353                                 null  6142.624003            9.0   \n",
      "52572                                 null  6197.419766            9.0   \n",
      "52666                                 null  6220.939399            9.0   \n",
      "52812                                 null  6257.469931            9.0   \n",
      "52830                                 null  6261.973701            9.0   \n",
      "53036                                 null  6313.516766            9.0   \n",
      "53196                                 null  6353.566869            9.0   \n",
      "53300                                 null  6679.589190           10.0   \n",
      "53353                                 null  6692.850277           10.0   \n",
      "53580                                 null  6749.647720           10.0   \n",
      "53701                                 null  6779.923004           10.0   \n",
      "53742                                 null  6790.181577           10.0   \n",
      "53914                                 null  6833.217483           10.0   \n",
      "53928                                 null  6836.720455           10.0   \n",
      "53990                                 null  6852.233427           10.0   \n",
      "53997                                 null  6853.984886           10.0   \n",
      "54075                                 null  6873.501194           10.0   \n",
      "54100                                 null  6879.756405           10.0   \n",
      "54338                                 null  6939.306173           10.0   \n",
      "54356                                 null  6943.809910           10.0   \n",
      "54523                                 null  6985.594822           10.0   \n",
      "54732                                 null  7037.888495           10.0   \n",
      "54843                                 null  7065.661667           10.0   \n",
      "55067                                 null  7121.708527           10.0   \n",
      "55089                                 null  7127.213112           10.0   \n",
      "66132                                 null  8027.965512           13.0   \n",
      "66143                                 null  8030.717830           13.0   \n",
      "66144                                 null  8030.968034           13.0   \n",
      "66305                                 null  8071.251687           13.0   \n",
      "66503                                 null  8120.793050           13.0   \n",
      "66645                                 null  8156.322723           13.0   \n",
      "66724                                 null  8176.089267           13.0   \n",
      "66745                                 null  8181.343627           13.0   \n",
      "67067                                 null  8261.910925           13.0   \n",
      "67291                                 null  8317.957755           13.0   \n",
      "67338                                 null  8329.717571           13.0   \n",
      "67578                                 null  8389.767729           13.0   \n",
      "67631                                 null  8403.028785           13.0   \n",
      "67669                                 null  8412.536793           13.0   \n",
      "67922                                 null  8475.839634           13.0   \n",
      "67987                                 null  8492.103195           13.0   \n",
      "\n",
      "                           stimulus_name    stop_time temporal_frequency  \\\n",
      "stimulus_presentation_id                                                   \n",
      "51442                     natural_scenes  5914.933800               null   \n",
      "51627                     natural_scenes  5961.222481               null   \n",
      "51701                     natural_scenes  5979.737946               null   \n",
      "51717                     natural_scenes  5983.741281               null   \n",
      "51933                     natural_scenes  6037.786431               null   \n",
      "51942                     natural_scenes  6040.038315               null   \n",
      "51982                     natural_scenes  6050.046685               null   \n",
      "52197                     natural_scenes  6103.841619               null   \n",
      "52341                     natural_scenes  6139.871709               null   \n",
      "52353                     natural_scenes  6142.874212               null   \n",
      "52572                     natural_scenes  6197.669967               null   \n",
      "52666                     natural_scenes  6221.189615               null   \n",
      "52812                     natural_scenes  6257.720137               null   \n",
      "52830                     natural_scenes  6262.223905               null   \n",
      "53036                     natural_scenes  6313.766957               null   \n",
      "53196                     natural_scenes  6353.817087               null   \n",
      "53300                     natural_scenes  6679.839409               null   \n",
      "53353                     natural_scenes  6693.100483               null   \n",
      "53580                     natural_scenes  6749.897934               null   \n",
      "53701                     natural_scenes  6780.173217               null   \n",
      "53742                     natural_scenes  6790.431786               null   \n",
      "53914                     natural_scenes  6833.467707               null   \n",
      "53928                     natural_scenes  6836.970664               null   \n",
      "53990                     natural_scenes  6852.483634               null   \n",
      "53997                     natural_scenes  6854.235097               null   \n",
      "54075                     natural_scenes  6873.751395               null   \n",
      "54100                     natural_scenes  6880.006611               null   \n",
      "54338                     natural_scenes  6939.556377               null   \n",
      "54356                     natural_scenes  6944.060124               null   \n",
      "54523                     natural_scenes  6985.845030               null   \n",
      "54732                     natural_scenes  7038.138706               null   \n",
      "54843                     natural_scenes  7065.911890               null   \n",
      "55067                     natural_scenes  7121.958730               null   \n",
      "55089                     natural_scenes  7127.463323               null   \n",
      "66132                     natural_scenes  8028.215723               null   \n",
      "66143                     natural_scenes  8030.968034               null   \n",
      "66144                     natural_scenes  8031.218237               null   \n",
      "66305                     natural_scenes  8071.501886               null   \n",
      "66503                     natural_scenes  8121.043259               null   \n",
      "66645                     natural_scenes  8156.572934               null   \n",
      "66724                     natural_scenes  8176.339483               null   \n",
      "66745                     natural_scenes  8181.593846               null   \n",
      "67067                     natural_scenes  8262.161129               null   \n",
      "67291                     natural_scenes  8318.207969               null   \n",
      "67338                     natural_scenes  8329.967775               null   \n",
      "67578                     natural_scenes  8390.017940               null   \n",
      "67631                     natural_scenes  8403.279001               null   \n",
      "67669                     natural_scenes  8412.786989               null   \n",
      "67922                     natural_scenes  8476.089840               null   \n",
      "67987                     natural_scenes  8492.353394               null   \n",
      "\n",
      "                         x_position y_position  duration  \\\n",
      "stimulus_presentation_id                                   \n",
      "51442                          null       null  0.250214   \n",
      "51627                          null       null  0.250206   \n",
      "51701                          null       null  0.250219   \n",
      "51717                          null       null  0.250204   \n",
      "51933                          null       null  0.250204   \n",
      "51942                          null       null  0.250214   \n",
      "51982                          null       null  0.250209   \n",
      "52197                          null       null  0.250211   \n",
      "52341                          null       null  0.250211   \n",
      "52353                          null       null  0.250209   \n",
      "52572                          null       null  0.250201   \n",
      "52666                          null       null  0.250216   \n",
      "52812                          null       null  0.250206   \n",
      "52830                          null       null  0.250204   \n",
      "53036                          null       null  0.250191   \n",
      "53196                          null       null  0.250218   \n",
      "53300                          null       null  0.250219   \n",
      "53353                          null       null  0.250206   \n",
      "53580                          null       null  0.250214   \n",
      "53701                          null       null  0.250214   \n",
      "53742                          null       null  0.250209   \n",
      "53914                          null       null  0.250224   \n",
      "53928                          null       null  0.250209   \n",
      "53990                          null       null  0.250206   \n",
      "53997                          null       null  0.250211   \n",
      "54075                          null       null  0.250201   \n",
      "54100                          null       null  0.250206   \n",
      "54338                          null       null  0.250204   \n",
      "54356                          null       null  0.250214   \n",
      "54523                          null       null  0.250209   \n",
      "54732                          null       null  0.250211   \n",
      "54843                          null       null  0.250224   \n",
      "55067                          null       null  0.250204   \n",
      "55089                          null       null  0.250211   \n",
      "66132                          null       null  0.250211   \n",
      "66143                          null       null  0.250204   \n",
      "66144                          null       null  0.250204   \n",
      "66305                          null       null  0.250199   \n",
      "66503                          null       null  0.250209   \n",
      "66645                          null       null  0.250211   \n",
      "66724                          null       null  0.250216   \n",
      "66745                          null       null  0.250219   \n",
      "67067                          null       null  0.250204   \n",
      "67291                          null       null  0.250214   \n",
      "67338                          null       null  0.250204   \n",
      "67578                          null       null  0.250211   \n",
      "67631                          null       null  0.250216   \n",
      "67669                          null       null  0.250196   \n",
      "67922                          null       null  0.250206   \n",
      "67987                          null       null  0.250199   \n",
      "\n",
      "                          stimulus_condition_id  \n",
      "stimulus_presentation_id                         \n",
      "51442                                      4971  \n",
      "51627                                      4971  \n",
      "51701                                      4971  \n",
      "51717                                      4971  \n",
      "51933                                      4971  \n",
      "51942                                      4971  \n",
      "51982                                      4971  \n",
      "52197                                      4971  \n",
      "52341                                      4971  \n",
      "52353                                      4971  \n",
      "52572                                      4971  \n",
      "52666                                      4971  \n",
      "52812                                      4971  \n",
      "52830                                      4971  \n",
      "53036                                      4971  \n",
      "53196                                      4971  \n",
      "53300                                      4971  \n",
      "53353                                      4971  \n",
      "53580                                      4971  \n",
      "53701                                      4971  \n",
      "53742                                      4971  \n",
      "53914                                      4971  \n",
      "53928                                      4971  \n",
      "53990                                      4971  \n",
      "53997                                      4971  \n",
      "54075                                      4971  \n",
      "54100                                      4971  \n",
      "54338                                      4971  \n",
      "54356                                      4971  \n",
      "54523                                      4971  \n",
      "54732                                      4971  \n",
      "54843                                      4971  \n",
      "55067                                      4971  \n",
      "55089                                      4971  \n",
      "66132                                      4971  \n",
      "66143                                      4971  \n",
      "66144                                      4971  \n",
      "66305                                      4971  \n",
      "66503                                      4971  \n",
      "66645                                      4971  \n",
      "66724                                      4971  \n",
      "66745                                      4971  \n",
      "67067                                      4971  \n",
      "67291                                      4971  \n",
      "67338                                      4971  \n",
      "67578                                      4971  \n",
      "67631                                      4971  \n",
      "67669                                      4971  \n",
      "67922                                      4971  \n",
      "67987                                      4971  \n"
     ]
    }
   ],
   "source": [
    "print(imageTable.iloc[thisImageIndices])"
   ]
  },
  {
   "cell_type": "code",
   "execution_count": 27,
   "metadata": {},
   "outputs": [
    {
     "data": {
      "text/plain": [
       "stimulus_presentation_id\n",
       "51442    5914.683587\n",
       "51627    5960.972275\n",
       "51701    5979.487727\n",
       "51717    5983.491077\n",
       "51933    6037.536227\n",
       "51942    6039.788101\n",
       "51982    6049.796476\n",
       "52197    6103.591407\n",
       "52341    6139.621497\n",
       "52353    6142.624003\n",
       "52572    6197.419766\n",
       "52666    6220.939399\n",
       "52812    6257.469931\n",
       "52830    6261.973701\n",
       "53036    6313.516766\n",
       "53196    6353.566869\n",
       "53300    6679.589190\n",
       "53353    6692.850277\n",
       "53580    6749.647720\n",
       "53701    6779.923004\n",
       "53742    6790.181577\n",
       "53914    6833.217483\n",
       "53928    6836.720455\n",
       "53990    6852.233427\n",
       "53997    6853.984886\n",
       "54075    6873.501194\n",
       "54100    6879.756405\n",
       "54338    6939.306173\n",
       "54356    6943.809910\n",
       "54523    6985.594822\n",
       "54732    7037.888495\n",
       "54843    7065.661667\n",
       "55067    7121.708527\n",
       "55089    7127.213112\n",
       "66132    8027.965512\n",
       "66143    8030.717830\n",
       "66144    8030.968034\n",
       "66305    8071.251687\n",
       "66503    8120.793050\n",
       "66645    8156.322723\n",
       "66724    8176.089267\n",
       "66745    8181.343627\n",
       "67067    8261.910925\n",
       "67291    8317.957755\n",
       "67338    8329.717571\n",
       "67578    8389.767729\n",
       "67631    8403.028785\n",
       "67669    8412.536793\n",
       "67922    8475.839634\n",
       "67987    8492.103195\n",
       "Name: start_time, dtype: float64"
      ]
     },
     "execution_count": 27,
     "metadata": {},
     "output_type": "execute_result"
    }
   ],
   "source": [
    "imageStartTime"
   ]
  },
  {
   "cell_type": "code",
   "execution_count": 13,
   "metadata": {},
   "outputs": [
    {
     "data": {
      "text/plain": [
       "(95,)"
      ]
     },
     "execution_count": 13,
     "metadata": {},
     "output_type": "execute_result"
    }
   ],
   "source": [
    "startWindow.shape"
   ]
  }
 ],
 "metadata": {
  "kernelspec": {
   "display_name": "Python 3",
   "language": "python",
   "name": "python3"
  },
  "language_info": {
   "codemirror_mode": {
    "name": "ipython",
    "version": 3
   },
   "file_extension": ".py",
   "mimetype": "text/x-python",
   "name": "python",
   "nbconvert_exporter": "python",
   "pygments_lexer": "ipython3",
   "version": "3.7.13 (default, Aug 25 2022, 17:16:53) \n[GCC 10.2.1 20210110]"
  },
  "orig_nbformat": 4,
  "vscode": {
   "interpreter": {
    "hash": "e774977668b7c0ae8309835a5187aa7fbf7669e7d0bb59755bc63e573643edcd"
   }
  }
 },
 "nbformat": 4,
 "nbformat_minor": 2
}
